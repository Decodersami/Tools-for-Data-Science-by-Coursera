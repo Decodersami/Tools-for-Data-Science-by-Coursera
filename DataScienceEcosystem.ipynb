{
 "cells": [
  {
   "cell_type": "markdown",
   "metadata": {},
   "source": [
    "<center>\n",
    "    <img src=\"https://cf-courses-data.s3.us.cloud-object-storage.appdomain.cloud/IBMDeveloperSkillsNetwork-DS0105EN-SkillsNetwork/labs/Module2/images/SN_web_lightmode.png\" width=\"300\" alt=\"cognitiveclass.ai logo\">\n",
    "</center>\n"
   ]
  },
  {
   "cell_type": "markdown",
   "metadata": {},
   "source": [
    "#### Add your code below following the instructions given in the course\n"
   ]
  },
  {
   "cell_type": "code",
   "execution_count": null,
   "metadata": {},
   "outputs": [],
   "source": []
  },
  {
   "cell_type": "markdown",
   "metadata": {},
   "source": [
    "Data Science Tools and Ecosystem"
   ]
  },
  {
   "cell_type": "code",
   "execution_count": 1,
   "metadata": {
    "tags": []
   },
   "outputs": [],
   "source": [
    "# Importing commonly used libraries\n",
    "import numpy as np\n",
    "import pandas as pd\n",
    "import matplotlib.pyplot as plt\n",
    "import seaborn as sns"
   ]
  },
  {
   "cell_type": "code",
   "execution_count": null,
   "metadata": {
    "tags": []
   },
   "outputs": [],
   "source": [
    "# Reading data from a CSV file\n",
    "data = pd.read_csv('dataset.csv')\n",
    "\n",
    "# Displaying the first few rows of the dataframe\n",
    "data.head()\n"
   ]
  },
  {
   "cell_type": "code",
   "execution_count": null,
   "metadata": {},
   "outputs": [],
   "source": [
    "# Handling missing values\n",
    "data.dropna(inplace=True)\n",
    "\n",
    "# Removing duplicates\n",
    "data.drop_duplicates(inplace=True)\n",
    "\n",
    "# Renaming columns\n",
    "data.rename(columns={'old_name': 'new_name'}, inplace=True)\n",
    "\n",
    "# Data types conversion\n",
    "data['column_name'] = data['column_name'].astype(int)"
   ]
  },
  {
   "cell_type": "code",
   "execution_count": null,
   "metadata": {},
   "outputs": [],
   "source": [
    "# Descriptive statistics\n",
    "data.describe()\n",
    "\n",
    "# Histogram\n",
    "plt.hist(data['column_name'], bins=20, color='skyblue', edgecolor='black')\n",
    "plt.title('Histogram of Column')\n",
    "plt.xlabel('Values')\n",
    "plt.ylabel('Frequency')\n",
    "plt.show()\n",
    "\n",
    "# Scatter plot\n",
    "plt.scatter(data['feature1'], data['feature2'], color='green')\n",
    "plt.title('Scatter Plot')\n",
    "plt.xlabel('Feature 1')\n",
    "plt.ylabel('Feature 2')\n",
    "plt.show()"
   ]
  },
  {
   "cell_type": "code",
   "execution_count": null,
   "metadata": {},
   "outputs": [],
   "source": [
    "from sklearn.model_selection import train_test_split\n",
    "from sklearn.linear_model import LinearRegression\n",
    "from sklearn.metrics import mean_squared_error\n",
    "\n",
    "# Splitting data into training and testing sets\n",
    "X_train, X_test, y_train, y_test = train_test_split(data[['feature1', 'feature2']], data['target'], test_size=0.2, random_state=42)\n",
    "\n",
    "# Creating and training a linear regression model\n",
    "model = LinearRegression()\n",
    "model.fit(X_train, y_train)\n",
    "\n",
    "# Making predictions\n",
    "predictions = model.predict(X_test)\n",
    "\n",
    "# Evaluating the model\n",
    "mse = mean_squared_error(y_test, predictions)\n",
    "print(f'Mean Squared Error: {mse}')"
   ]
  },
  {
   "cell_type": "markdown",
   "metadata": {},
   "source": [
    "In this notebook, Data Science Tools and Ecosystem are summarized."
   ]
  },
  {
   "cell_type": "markdown",
   "metadata": {},
   "source": [
    "Data science has emerged as a pivotal field in extracting meaningful insights from vast datasets, driving decision-making processes across various industries. The data science ecosystem is characterized by a rich assortment of tools and technologies that facilitate the entire data analysis pipeline. In this notebook, we will delve into the key components of the data science toolkit and explore the interconnected ecosystem that empowers data scientists to tackle complex problems."
   ]
  },
  {
   "cell_type": "code",
   "execution_count": null,
   "metadata": {
    "tags": []
   },
   "outputs": [],
   "source": [
    "# Importing commonly used libraries\n",
    "import numpy as np\n",
    "import pandas as pd\n",
    "import matplotlib.pyplot as plt\n",
    "import seaborn as sns\n",
    "from sklearn.model_selection import train_test_split\n",
    "from sklearn.linear_model import LinearRegression\n",
    "from sklearn.metrics import mean_squared_error"
   ]
  },
  {
   "cell_type": "code",
   "execution_count": null,
   "metadata": {},
   "outputs": [],
   "source": [
    "# Reading data from a CSV file\n",
    "data = pd.read_csv('dataset.csv')\n",
    "\n",
    "# Displaying the first few rows of the dataframe\n",
    "data.head()"
   ]
  },
  {
   "cell_type": "code",
   "execution_count": null,
   "metadata": {},
   "outputs": [],
   "source": [
    "# Handling missing values\n",
    "data.dropna(inplace=True)\n",
    "\n",
    "# Removing duplicates\n",
    "data.drop_duplicates(inplace=True)\n",
    "\n",
    "# Renaming columns\n",
    "data.rename(columns={'old_name': 'new_name'}, inplace=True)\n",
    "\n",
    "# Data types conversion\n",
    "data['column_name'] = data['column_name'].astype(int)"
   ]
  },
  {
   "cell_type": "markdown",
   "metadata": {},
   "source": [
    "Some of the popular languages that Data Scientists use are:"
   ]
  },
  {
   "cell_type": "markdown",
   "metadata": {},
   "source": [
    "Python:\n",
    "Python is the most widely used programming language in the field of data science. Its simplicity, extensive libraries (such as NumPy, Pandas, Matplotlib, and Scikit-Learn), and a vibrant community make it a top choice for data scientists. Python supports various data manipulation, analysis, and machine learning tasks, making it versatile for the entire data science workflow."
   ]
  },
  {
   "cell_type": "markdown",
   "metadata": {},
   "source": [
    "R:\n",
    "R is another language specifically designed for statistical computing and data analysis. It provides a rich ecosystem of packages, particularly for statistical modeling and visualization. R is popular in academia and among statisticians for its robust statistical capabilities. Data scientists often leverage R for exploratory data analysis, statistical modeling, and generating insightful visualizations."
   ]
  },
  {
   "cell_type": "markdown",
   "metadata": {},
   "source": [
    "SQL:\n",
    "While not a general-purpose programming language, SQL (Structured Query Language) is fundamental for data scientists working with relational databases. SQL is used to query, manipulate, and manage structured data in databases such as MySQL, PostgreSQL, and SQLite. Proficiency in SQL is crucial for extracting and transforming data before analysis, playing a key role in the data preprocessing phase."
   ]
  },
  {
   "cell_type": "markdown",
   "metadata": {},
   "source": [
    "Julia:\n",
    "Julia is a high-performance programming language specifically designed for numerical and scientific computing. It aims to combine the ease of use of languages like Python with the performance of low-level languages like C. Julia is gaining traction in the data science community for its speed and efficiency, especially when dealing with large datasets and computationally intensive tasks."
   ]
  },
  {
   "cell_type": "markdown",
   "metadata": {},
   "source": [
    "Scala:\n",
    "Scala, a general-purpose programming language, is often associated with Apache Spark, a powerful distributed computing\n",
    "framework for big data processing. Scala's functional programming features and compatibility with Java make it a preferred\n",
    "language for building scalable and distributed data processing applications, making it valuable for large-scale data science projects."
   ]
  },
  {
   "cell_type": "markdown",
   "metadata": {},
   "source": [
    "Some of the commonly used libraries used by Data Scientists include:"
   ]
  },
  {
   "cell_type": "markdown",
   "metadata": {},
   "source": [
    "NumPy:\n",
    "NumPy, short for Numerical Python, is a fundamental library for numerical computing in Python. It provides support for\n",
    "large, multi-dimensional arrays and matrices, along with mathematical functions to operate on these arrays. NumPy is a \n",
    "cornerstone in the Python data science ecosystem, serving as the foundation for many other libraries."
   ]
  },
  {
   "cell_type": "markdown",
   "metadata": {},
   "source": [
    "Pandas:\n",
    "Pandas is a powerful data manipulation library built on top of NumPy. It provides easy-to-use data structures, such \n",
    "as DataFrame and Series, for efficient data cleaning, transformation, and analysis. Pandas simplifies tasks like handling\n",
    "missing data, filtering, grouping, and merging datasets, making it an essential tool in the data scientist's toolkit."
   ]
  },
  {
   "cell_type": "markdown",
   "metadata": {},
   "source": [
    "Matplotlib:\n",
    "Matplotlib is a versatile 2D plotting library for Python. It enables the creation of a wide range of static, animated, and interactive visualizations. Data scientists often use Matplotlib to generate plots, histograms, and other visual \n",
    "representations of data for exploratory data analysis and presentation."
   ]
  },
  {
   "cell_type": "markdown",
   "metadata": {},
   "source": [
    "Scikit-Learn:\n",
    "Scikit-Learn is a machine learning library that provides simple and efficient tools for data mining and data analysis. It includes various algorithms for classification, regression, clustering, and dimensionality reduction. Scikit-Learn is designed to work seamlessly with NumPy and Pandas, making it easy to integrate into the data science workflow."
   ]
  },
  {
   "cell_type": "markdown",
   "metadata": {},
   "source": [
    "TensorFlow and PyTorch:\n",
    "TensorFlow and PyTorch are leading deep learning frameworks. These libraries offer a comprehensive set of tools for \n",
    "building and training neural network models. They are extensively used in tasks such as image recognition, natural \n",
    "language processing, and other applications that require sophisticated machine learning models."
   ]
  },
  {
   "cell_type": "markdown",
   "metadata": {},
   "source": [
    "Seaborn:\n",
    "Seaborn is a statistical data visualization library based on Matplotlib. It provides a high-level interface for drawing \n",
    "attractive and informative statistical graphics. Seaborn simplifies the creation of complex visualizations, including \n",
    "heatmaps, violin plots, and pair plots, enhancing the aesthetic appeal of data visualizations."
   ]
  },
  {
   "cell_type": "markdown",
   "metadata": {},
   "source": [
    "| Data Science Tools     |\n",
    "|------------------------|\n",
    "| Jupyter Notebook       |\n",
    "| RStudio                |\n",
    "| VS Code (Visual Studio Code) |\n"
   ]
  },
  {
   "cell_type": "markdown",
   "metadata": {},
   "source": [
    "Below are a few examples of evaluating arithmetic expressions in Python"
   ]
  },
  {
   "cell_type": "markdown",
   "metadata": {},
   "source": [
    "Simple Addition"
   ]
  },
  {
   "cell_type": "code",
   "execution_count": 4,
   "metadata": {
    "tags": []
   },
   "outputs": [
    {
     "name": "stdout",
     "output_type": "stream",
     "text": [
      "8\n"
     ]
    }
   ],
   "source": [
    "result = 5 + 3\n",
    "print(result)  # Output: 8\n"
   ]
  },
  {
   "cell_type": "markdown",
   "metadata": {},
   "source": [
    "Subtraction and Multiplication"
   ]
  },
  {
   "cell_type": "code",
   "execution_count": 5,
   "metadata": {
    "tags": []
   },
   "outputs": [
    {
     "name": "stdout",
     "output_type": "stream",
     "text": [
      "2\n"
     ]
    }
   ],
   "source": [
    "result = 10 - 4 * 2\n",
    "print(result)  # Output: 2\n"
   ]
  },
  {
   "cell_type": "markdown",
   "metadata": {},
   "source": [
    "Division"
   ]
  },
  {
   "cell_type": "code",
   "execution_count": 6,
   "metadata": {
    "tags": []
   },
   "outputs": [
    {
     "name": "stdout",
     "output_type": "stream",
     "text": [
      "5.0\n"
     ]
    }
   ],
   "source": [
    "result = 15 / 3\n",
    "print(result)  # Output: 5.0 (Note: In Python 3, division always returns a float)\n"
   ]
  },
  {
   "cell_type": "markdown",
   "metadata": {},
   "source": [
    "Exponentiation"
   ]
  },
  {
   "cell_type": "code",
   "execution_count": 7,
   "metadata": {
    "tags": []
   },
   "outputs": [
    {
     "name": "stdout",
     "output_type": "stream",
     "text": [
      "8\n"
     ]
    }
   ],
   "source": [
    "result = 2 ** 3\n",
    "print(result)  # Output: 8\n"
   ]
  },
  {
   "cell_type": "markdown",
   "metadata": {},
   "source": [
    " Modulo (Remainder)"
   ]
  },
  {
   "cell_type": "code",
   "execution_count": 8,
   "metadata": {
    "tags": []
   },
   "outputs": [
    {
     "name": "stdout",
     "output_type": "stream",
     "text": [
      "1\n"
     ]
    }
   ],
   "source": [
    "result = 17 % 4\n",
    "print(result)  # Output: 1\n"
   ]
  },
  {
   "cell_type": "markdown",
   "metadata": {},
   "source": [
    " Complex Expression"
   ]
  },
  {
   "cell_type": "code",
   "execution_count": 9,
   "metadata": {
    "tags": []
   },
   "outputs": [
    {
     "name": "stdout",
     "output_type": "stream",
     "text": [
      "23.5\n"
     ]
    }
   ],
   "source": [
    "result = (4 + 5) * 3 - 7 / 2\n",
    "print(result)  # Output: 23.5\n"
   ]
  },
  {
   "cell_type": "code",
   "execution_count": 10,
   "metadata": {
    "tags": []
   },
   "outputs": [
    {
     "data": {
      "text/plain": [
       "17"
      ]
     },
     "execution_count": 10,
     "metadata": {},
     "output_type": "execute_result"
    }
   ],
   "source": [
    "# This a simple arithmetic expression to mutiply then add integers\n",
    "(3*4)+5"
   ]
  },
  {
   "cell_type": "code",
   "execution_count": 11,
   "metadata": {
    "tags": []
   },
   "outputs": [
    {
     "name": "stdout",
     "output_type": "stream",
     "text": [
      "3.3333333333333335\n"
     ]
    }
   ],
   "source": [
    "# This will convert 200 minutes to hours by diving by 60\n",
    "minutes = 200\n",
    "hours = minutes / 60\n",
    "print(hours)\n"
   ]
  },
  {
   "cell_type": "markdown",
   "metadata": {},
   "source": [
    "**Objectives:**"
   ]
  },
  {
   "cell_type": "markdown",
   "metadata": {
    "tags": []
   },
   "source": [
    "* unordered list\n",
    "  \n",
    "  SQL\n",
    "  \n",
    "  MATLAB\n",
    "  \n",
    "  Julia\n",
    "  \n",
    "  Scala"
   ]
  },
  {
   "cell_type": "markdown",
   "metadata": {},
   "source": [
    "*Samim Aktar*"
   ]
  },
  {
   "cell_type": "code",
   "execution_count": null,
   "metadata": {},
   "outputs": [],
   "source": []
  }
 ],
 "metadata": {
  "kernelspec": {
   "display_name": "Python",
   "language": "python",
   "name": "conda-env-python-py"
  },
  "language_info": {
   "codemirror_mode": {
    "name": "ipython",
    "version": 3
   },
   "file_extension": ".py",
   "mimetype": "text/x-python",
   "name": "python",
   "nbconvert_exporter": "python",
   "pygments_lexer": "ipython3",
   "version": "3.7.12"
  },
  "toc-autonumbering": false
 },
 "nbformat": 4,
 "nbformat_minor": 4
}
